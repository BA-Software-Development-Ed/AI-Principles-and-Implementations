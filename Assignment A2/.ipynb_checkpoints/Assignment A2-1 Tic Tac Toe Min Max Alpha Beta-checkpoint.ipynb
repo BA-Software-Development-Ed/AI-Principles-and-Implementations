{
 "cells": [
  {
   "cell_type": "markdown",
   "metadata": {},
   "source": [
    "# Assignment A2-1 Tic Tac Toe Min Max Alpha Beta\n",
    "\n",
    "Create an AI agent, which can play the popular game Tic Tac Toe, possibly without losing.  \n",
    "Implement the **[MinMax algorithm](#MinMax-Algorithm)** with **[alpha-beta pruning](#Alpha-Beta-Pruning)**, code it in your preferable language.\n",
    "\n",
    "Submit either the code or the link to it in Peergrade.  \n",
    "If it is correct, your solution gives you _20 credits_.  \n",
    "Providing feedback to your colleagues’ solution brings _5 credits_ more.  \n",
    "\n",
    "#### References\n",
    "* [MinMax Algorithm, GeeksforGeeks](https://www.geeksforgeeks.org/minimax-algorithm-in-game-theory-set-1-introduction/)\n",
    "* [Alpha-Beta Pruning, GeeksforGeeks](https://www.geeksforgeeks.org/minimax-algorithm-in-game-theory-set-4-alpha-beta-pruning/)\n",
    "* [Tic Tac Toe AI with Minimax Algorithm, Youtube](https://www.youtube.com/watch?v=trKjYdBASyQ)\n",
    "* [Algorithms Explained – minimax and alpha-beta pruning, Youtube](https://www.youtube.com/watch?v=l-hh51ncgDI)\n",
    "\n",
    "---\n",
    "\n",
    "### MinMax Algorithm\n",
    "_[refernce, GeeksforGeeks](https://www.geeksforgeeks.org/minimax-algorithm-in-game-theory-set-1-introduction/)_  \n",
    "\n",
    "Minimax is a kind of backtracking algorithm that is used in decision making and game theory to find the optimal move for a player, assuming that your opponent also plays optimally. It is widely used in two player turn-based games such as Tic-Tac-Toe, Backgammon, Mancala, Chess, etc.\n",
    "\n",
    "In Minimax the two players are called **maximizer** and **minimizer**. The maximizer tries to get the highest score possible while the minimizer tries to do the opposite and get the lowest score possible.\n",
    "\n",
    "Every board state has a value associated with it. In a given state if the maximizer has upper hand then, the score of the board will tend to be some positive value. If the minimizer has the upper hand in that board state then it will tend to be some negative value. The values of the board are calculated by some heuristics which are unique for every type of game.\n",
    "\n",
    "![tree](assets/tree.png)\n",
    "\n",
    "#### Factorial\n",
    "\n",
    "$$n! = n\\times(n-1)\\times(n-2)\\times(n-3)\\times\\cdot\\cdot\\cdot\\times3\\times2\\times1$$\n",
    "\n",
    "Example\n",
    "$$ 5! = 5\\times4\\times3\\times2\\times1 = 120$$\n",
    "\n",
    "\n",
    "### Node Tree\n",
    "\n",
    "![node-tree](assets/node-tree.png)\n",
    "\n",
    "**Node**  \n",
    "A node is a structure which may contain a value or condition, or represent a separate data structure.\n",
    "\n",
    "**Root**  \n",
    "The top node in a tree, the prime ancestor.\n",
    "\n",
    "**Child**  \n",
    "A node directly connected to another node when moving away from the root, an immediate descendant.\n",
    "\n",
    "**Parent**  \n",
    "The converse notion of a child, an immediate ancestor.\n",
    "\n",
    "**Siblings**  \n",
    "A group of nodes with the same parent.\n",
    "\n",
    "**Edge**  \n",
    "The connection between one node and another.\n",
    "\n",
    "**Leaf, Terminal State**  \n",
    "A node with no children. \n",
    "\n",
    "**Depth**  \n",
    "The distance between a node and the root.\n",
    "\n",
    "**Sub Tree**  \n",
    "A tree T is a tree consisting of a node in T and all of its descendants in T.\n",
    "\n",
    "---\n",
    "\n",
    "### Alpha-Beta Pruning\n",
    "_[reference, GeeksforGeeks](https://www.geeksforgeeks.org/minimax-algorithm-in-game-theory-set-4-alpha-beta-pruning/)_  \n",
    "...\n",
    "\n",
    "---\n",
    "\n",
    "\n",
    "### Extended Python Syntax\n",
    "\n",
    "#### Ternary Operators\n",
    "_[reference, GeeksforGeeks](https://www.geeksforgeeks.org/ternary-operator-in-python/)_  \n",
    "\n",
    "Ternary operators also known as conditional expressions are operators that evaluate something based on a condition being true or false.  \n",
    "It simply allows to test a condition in a single line replacing the multiline if-else making the code compact.\n",
    "\n",
    "_Syntax_\n",
    "```python\n",
    "on_true if expression else on_false\n",
    "```\n",
    "\n",
    "_Example_\n",
    "```python\n",
    "print('true') if True else print('false') # print: true\n",
    "```\n",
    "\n",
    "#### List Comprehension\n",
    "_[reference, GeeksforGeeks](https://www.geeksforgeeks.org/comprehensions-in-python/)_  \n",
    "\n",
    "Comprehensions in Python provide us with a short and concise way to construct new sequences using sequences which have been already defined. Python supports the following 4 types of comprehensions:\n",
    "\n",
    "* List Comprehensions\n",
    "* Dictionary Comprehensions\n",
    "* Set Comprehensions\n",
    "* Generator Comprehensions\n",
    "\n",
    "_Syntax_\n",
    "```python \n",
    "comp_list = [variable for variable in list if expression] \n",
    "```\n",
    "\n",
    "_Example_\n",
    "```python \n",
    "numbers = [1, 2, 3, 4, 5]\n",
    "even_numbers = [number for number in numbers if even % 2 == 0]\n",
    "even_numbers # [2, 4]\n",
    "```\n",
    "\n",
    "#### Default Arguments\n",
    "_[reference, GeeksforGeeks](https://www.geeksforgeeks.org/default-arguments-in-python/)_  \n",
    "\n",
    "Python allows function arguments to have default values. If the function is called without the argument, the argument gets its default value.\n",
    "\n",
    "Python has a different way of representing syntax and default values for function arguments. Default values indicate that the function argument will take that value if no argument value is passed during function call. The default value is assigned by using assignment(`=`) operator of the form `keywordname = value`.\n",
    "\n",
    "_Syntax_\n",
    "```python \n",
    "def foo(keywordname = value):\n",
    "    pass\n",
    "```\n",
    "\n",
    "_Example_\n",
    "```python \n",
    "def greet(name = 'World'):\n",
    "    print('Hello', name)\n",
    "    \n",
    "greet() # print: Hello World\n",
    "greet('Dora') # print: Hello Dora\n",
    "```\n",
    "\n",
    "---"
   ]
  },
  {
   "cell_type": "markdown",
   "metadata": {},
   "source": [
    "### Definitions"
   ]
  },
  {
   "cell_type": "markdown",
   "metadata": {},
   "source": [
    "#### Defining Constants "
   ]
  },
  {
   "cell_type": "code",
   "execution_count": 1,
   "metadata": {
    "ExecuteTime": {
     "end_time": "2020-02-16T20:23:59.733224Z",
     "start_time": "2020-02-16T20:23:59.721686Z"
    }
   },
   "outputs": [],
   "source": [
    "import math\n",
    "\n",
    "EMPTY = '.'\n",
    "AI = 'X'\n",
    "HUMAN = 'O'\n",
    "SCORES = { 'X': 1, 'O': -1, '.': 0 }\n",
    "\n",
    "WINNING_CASES = [\n",
    "    [0, 1, 2],\n",
    "    [3, 4, 5],\n",
    "    [6, 7, 8],\n",
    "    [0, 3, 6],\n",
    "    [1, 4, 7],\n",
    "    [2, 5, 8],\n",
    "    [0, 4, 8],\n",
    "    [2, 4, 6]\n",
    "]"
   ]
  },
  {
   "cell_type": "markdown",
   "metadata": {},
   "source": [
    "#### Defining Functions "
   ]
  },
  {
   "cell_type": "code",
   "execution_count": 2,
   "metadata": {
    "ExecuteTime": {
     "end_time": "2020-02-16T20:23:59.744800Z",
     "start_time": "2020-02-16T20:23:59.737742Z"
    }
   },
   "outputs": [],
   "source": [
    "def print_board(board):\n",
    "    print(' '.join(board[:3]))\n",
    "    print(' '.join(board[3:6]))\n",
    "    print(' '.join(board[6:]), '\\n')"
   ]
  },
  {
   "cell_type": "code",
   "execution_count": 3,
   "metadata": {
    "ExecuteTime": {
     "end_time": "2020-02-16T20:23:59.780058Z",
     "start_time": "2020-02-16T20:23:59.756257Z"
    }
   },
   "outputs": [],
   "source": [
    "def human_move(board):\n",
    "    \n",
    "    # validating user inputs\n",
    "    try:\n",
    "        row = int(input('enter row: '))\n",
    "        column = int(input('enter column: '))\n",
    "        index = 3 * (row - 1) + (column - 1)\n",
    "        \n",
    "        # sees if the cell is empty before updating the value\n",
    "        # trows exception if the index is out of bounds\n",
    "        if board[index] is EMPTY:\n",
    "            board[index] = HUMAN\n",
    "            return board\n",
    "        \n",
    "        # if the cell i occupied, new inputs are required\n",
    "        else:\n",
    "            print('\\n', 'cell occupied, try again', '\\n')\n",
    "            return human_move(board)\n",
    "    \n",
    "    # in case of exceptions the uses is informed, and new inputs are required\n",
    "    except:\n",
    "        print('\\n', 'invalid input, try again', '\\n')\n",
    "        return human_move(board)"
   ]
  },
  {
   "cell_type": "code",
   "execution_count": 4,
   "metadata": {
    "ExecuteTime": {
     "end_time": "2020-02-16T20:23:59.795928Z",
     "start_time": "2020-02-16T20:23:59.785662Z"
    }
   },
   "outputs": [],
   "source": [
    "def ai_move(board):\n",
    "    bestScore = -100\n",
    "    move = None\n",
    "    \n",
    "    # iterates over the cells from the board\n",
    "    for i, _ in enumerate(board):\n",
    "        \n",
    "        # if the current cell is empty\n",
    "        if board[i] == EMPTY:\n",
    "            board[i] = AI\n",
    "            score = minimax(board, 0, False)\n",
    "            board[i] = EMPTY # resets the cell input\n",
    "            \n",
    "            # ...\n",
    "            if score > bestScore:\n",
    "                bestScore = score\n",
    "                move = i\n",
    "    \n",
    "    # ...\n",
    "    board[move] = AI\n",
    "    return board"
   ]
  },
  {
   "cell_type": "code",
   "execution_count": 12,
   "metadata": {
    "ExecuteTime": {
     "end_time": "2020-02-16T20:26:24.033850Z",
     "start_time": "2020-02-16T20:26:24.026617Z"
    }
   },
   "outputs": [],
   "source": [
    "def minimax(board, depth, is_maximizing):\n",
    "    result = check_winner(board)\n",
    "    \n",
    "    # terminal condition\n",
    "    if result is not None: return SCORES[result]\n",
    "        \n",
    "    # sets the default score for maximizing or minimazing\n",
    "    best_score = -math.inf if is_maximizing else math.inf\n",
    "\n",
    "    # ...\n",
    "    for i, _ in enumerate(board):\n",
    "        \n",
    "        # ...\n",
    "        if board[i] == EMPTY:\n",
    "            board[i] = AI if is_maximizing else HUMAN\n",
    "            score = minimax(board, depth + 1, not is_maximizing) # recursivly calls\n",
    "            board[i] = EMPTY\n",
    "            \n",
    "            # ...\n",
    "            if is_maximizing: best_score = max([score, best_score])\n",
    "            else: best_score = min([score, best_score])\n",
    "\n",
    "    return best_score"
   ]
  },
  {
   "cell_type": "code",
   "execution_count": 6,
   "metadata": {
    "ExecuteTime": {
     "end_time": "2020-02-16T20:23:59.835822Z",
     "start_time": "2020-02-16T20:23:59.823503Z"
    }
   },
   "outputs": [],
   "source": [
    "def check_winner(board):\n",
    "    # iterating over the winning cases\n",
    "    for winning_case in WINNING_CASES:\n",
    "        if board[winning_case[0]] == board[winning_case[1]] == board[winning_case[2]] != EMPTY:\n",
    "            return board[winning_case[0]] # win-case\n",
    "    \n",
    "    # sees if the board still contains empty cells\n",
    "    if EMPTY in board: return None # not concluded\n",
    "    else: return EMPTY # draw-case"
   ]
  },
  {
   "cell_type": "code",
   "execution_count": 7,
   "metadata": {
    "ExecuteTime": {
     "end_time": "2020-02-16T20:23:59.855706Z",
     "start_time": "2020-02-16T20:23:59.845039Z"
    }
   },
   "outputs": [],
   "source": [
    "def play(human_starts = False):\n",
    "    # initializing environment\n",
    "    board = [EMPTY] * 9\n",
    "    winner = None\n",
    "    AIs_turn = not human_starts\n",
    "    \n",
    "    # ...\n",
    "    while EMPTY in board:\n",
    "        board = ai_move(board) if AIs_turn else human_move(board)\n",
    "        print_board(board)\n",
    "        \n",
    "        # ...\n",
    "        winner = check_winner(board)\n",
    "        if winner is not None: break\n",
    "        \n",
    "        # toggles AI turns\n",
    "        AIs_turn = not AIs_turn \n",
    "        \n",
    "    print('Game Concluded, Won by', winner)"
   ]
  },
  {
   "cell_type": "code",
   "execution_count": 13,
   "metadata": {
    "ExecuteTime": {
     "end_time": "2020-02-16T20:26:38.789300Z",
     "start_time": "2020-02-16T20:26:26.531952Z"
    }
   },
   "outputs": [
    {
     "name": "stdout",
     "output_type": "stream",
     "text": [
      "enter row: 2\n",
      "enter column: 2\n",
      ". . .\n",
      ". O .\n",
      ". . . \n",
      "\n",
      "X . .\n",
      ". O .\n",
      ". . . \n",
      "\n",
      "enter row: 3\n",
      "enter column: \n",
      "\n",
      " invalid input, try again \n",
      "\n",
      "enter row: 3\n",
      "enter column: 3\n",
      "X . .\n",
      ". O .\n",
      ". . O \n",
      "\n",
      "X . X\n",
      ". O .\n",
      ". . O \n",
      "\n",
      "enter row: 3\n",
      "enter column: 1\n",
      "X . X\n",
      ". O .\n",
      "O . O \n",
      "\n",
      "X X X\n",
      ". O .\n",
      "O . O \n",
      "\n",
      "Game Concluded, Won by X\n"
     ]
    }
   ],
   "source": [
    "play(True)"
   ]
  },
  {
   "cell_type": "markdown",
   "metadata": {},
   "source": [
    "### Game Analysis and Measurements"
   ]
  },
  {
   "cell_type": "code",
   "execution_count": null,
   "metadata": {
    "ExecuteTime": {
     "end_time": "2020-02-16T20:24:02.265455Z",
     "start_time": "2020-02-16T20:23:59.722Z"
    }
   },
   "outputs": [],
   "source": [
    "def calculate_possibilities():\n",
    "    pass"
   ]
  },
  {
   "cell_type": "code",
   "execution_count": null,
   "metadata": {
    "ExecuteTime": {
     "end_time": "2020-02-16T20:24:02.275608Z",
     "start_time": "2020-02-16T20:23:59.725Z"
    }
   },
   "outputs": [],
   "source": [
    "calculate_possibilities()"
   ]
  }
 ],
 "metadata": {
  "kernelspec": {
   "display_name": "Python 3",
   "language": "python",
   "name": "python3"
  },
  "language_info": {
   "codemirror_mode": {
    "name": "ipython",
    "version": 3
   },
   "file_extension": ".py",
   "mimetype": "text/x-python",
   "name": "python",
   "nbconvert_exporter": "python",
   "pygments_lexer": "ipython3",
   "version": "3.7.4"
  },
  "varInspector": {
   "cols": {
    "lenName": 16,
    "lenType": 16,
    "lenVar": 40
   },
   "kernels_config": {
    "python": {
     "delete_cmd_postfix": "",
     "delete_cmd_prefix": "del ",
     "library": "var_list.py",
     "varRefreshCmd": "print(var_dic_list())"
    },
    "r": {
     "delete_cmd_postfix": ") ",
     "delete_cmd_prefix": "rm(",
     "library": "var_list.r",
     "varRefreshCmd": "cat(var_dic_list()) "
    }
   },
   "types_to_exclude": [
    "module",
    "function",
    "builtin_function_or_method",
    "instance",
    "_Feature"
   ],
   "window_display": false
  }
 },
 "nbformat": 4,
 "nbformat_minor": 4
}
