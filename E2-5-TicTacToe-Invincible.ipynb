{
 "cells": [
  {
   "cell_type": "markdown",
   "metadata": {},
   "source": [
    "# E2-5 Tic Tac Toe Wiser - Invincible"
   ]
  },
  {
   "cell_type": "markdown",
   "metadata": {},
   "source": [
    "This is a game, in which AI starts playing from fixed winning position.\n",
    "The second move is based on a rule: \n",
    "- if possible, occupy the corners\n",
    "- otherwise, the middle"
   ]
  },
  {
   "cell_type": "markdown",
   "metadata": {},
   "source": [
    "## Initialization"
   ]
  },
  {
   "cell_type": "code",
   "execution_count": 1,
   "metadata": {
    "ExecuteTime": {
     "end_time": "2020-02-12T13:53:14.661916Z",
     "start_time": "2020-02-12T13:53:14.656011Z"
    }
   },
   "outputs": [],
   "source": [
    "# Initialize the players and signs\n",
    "EMPTY = '.'\n",
    "AI = 'X'\n",
    "HUMAN = 'O'"
   ]
  },
  {
   "cell_type": "code",
   "execution_count": 2,
   "metadata": {
    "ExecuteTime": {
     "end_time": "2020-02-12T13:53:14.688947Z",
     "start_time": "2020-02-12T13:53:14.666401Z"
    }
   },
   "outputs": [],
   "source": [
    "# print the board, leave an empty lines and spaces for visibility\n",
    "def print_board(board):\n",
    "    print(\" \")\n",
    "    print(' '.join(board[:3]))\n",
    "    print(' '.join(board[3:6]))\n",
    "    print(' '.join(board[6:]))\n",
    "    print(\" \")"
   ]
  },
  {
   "cell_type": "code",
   "execution_count": 3,
   "metadata": {
    "ExecuteTime": {
     "end_time": "2020-02-12T13:53:14.702811Z",
     "start_time": "2020-02-12T13:53:14.694669Z"
    }
   },
   "outputs": [
    {
     "name": "stdout",
     "output_type": "stream",
     "text": [
      " \n",
      ". . .\n",
      ". . .\n",
      ". . .\n",
      " \n"
     ]
    }
   ],
   "source": [
    "# Initialize the board\n",
    "board = EMPTY * 9\n",
    "print_board(board)"
   ]
  },
  {
   "cell_type": "code",
   "execution_count": 4,
   "metadata": {
    "ExecuteTime": {
     "end_time": "2020-02-12T13:53:14.716785Z",
     "start_time": "2020-02-12T13:53:14.707936Z"
    }
   },
   "outputs": [],
   "source": [
    "# Define all possible winning combinations\n",
    "win_cases = [\n",
    "    [0, 1, 2],\n",
    "    [3, 4, 5],\n",
    "    [6, 7, 8],\n",
    "    [0, 3, 6],\n",
    "    [1, 4, 7],\n",
    "    [2, 5, 8],\n",
    "    [0, 4, 8],\n",
    "    [2, 4, 6]\n",
    "]"
   ]
  },
  {
   "cell_type": "markdown",
   "metadata": {},
   "source": [
    "##  Supporting Functions"
   ]
  },
  {
   "cell_type": "markdown",
   "metadata": {},
   "source": [
    "#### Function improved\n",
    "AI is interested in winning and save options, with fixed start at 9 and 7.\n",
    "First move is always in a corner; second move is in the opposite corner if possible, otherwise in the middle."
   ]
  },
  {
   "cell_type": "code",
   "execution_count": 5,
   "metadata": {
    "ExecuteTime": {
     "end_time": "2020-02-12T13:53:14.735714Z",
     "start_time": "2020-02-12T13:53:14.720564Z"
    }
   },
   "outputs": [],
   "source": [
    "# Get all available save moves on the board in a list, fix the first two\n",
    "def all_possible_moves(board, sign):\n",
    "    if sign == AI:\n",
    "        empty = board.count(EMPTY)\n",
    "        if empty == 9:\n",
    "            return [sign + EMPTY * 8]\n",
    "        elif empty == 7:\n",
    "            return [\n",
    "                board[:8] + sign if board[8] == EMPTY else\n",
    "                board[:4] + sign + board[5:]\n",
    "            ]\n",
    "    move_list = []\n",
    "    for i, v in enumerate(board):\n",
    "        if v == EMPTY:\n",
    "            new_board = board[:i] + sign + board[i+1:]\n",
    "            move_list.append(new_board)\n",
    "            if game_won_by(new_board) == AI:\n",
    "                return [new_board]\n",
    "    if sign == AI:\n",
    "        safe_moves = []\n",
    "        for move in move_list:\n",
    "            if not can_win(move, HUMAN):\n",
    "                safe_moves.append(move)\n",
    "        return safe_moves if len(safe_moves) > 0 else move_list[0:1]\n",
    "    else:\n",
    "        return move_list"
   ]
  },
  {
   "cell_type": "code",
   "execution_count": 6,
   "metadata": {
    "ExecuteTime": {
     "end_time": "2020-02-12T13:53:14.764863Z",
     "start_time": "2020-02-12T13:53:14.755220Z"
    }
   },
   "outputs": [],
   "source": [
    "# A winning game is if any of win-cases occurs\n",
    "def game_won_by(board):\n",
    "    for i in win_cases:\n",
    "        if board[i[0]] == board[i[1]] == board[i[2]] != EMPTY:\n",
    "            # win-case\n",
    "            return board[i[0]]\n",
    "    return EMPTY"
   ]
  },
  {
   "cell_type": "code",
   "execution_count": 7,
   "metadata": {
    "ExecuteTime": {
     "end_time": "2020-02-12T13:53:14.781082Z",
     "start_time": "2020-02-12T13:53:14.774976Z"
    }
   },
   "outputs": [],
   "source": [
    "# Before make a move, iterate through the options and check if some wins\n",
    "def can_win(board, sign):\n",
    "    next_moves = all_possible_moves(board, sign)\n",
    "    for next_move in next_moves:\n",
    "        if game_won_by(next_move) == sign:\n",
    "            return True\n",
    "    return False"
   ]
  },
  {
   "cell_type": "markdown",
   "metadata": {},
   "source": [
    "## Play The Game"
   ]
  },
  {
   "cell_type": "markdown",
   "metadata": {},
   "source": [
    "### Game Moves"
   ]
  },
  {
   "cell_type": "markdown",
   "metadata": {},
   "source": [
    "#### Human move"
   ]
  },
  {
   "cell_type": "code",
   "execution_count": 8,
   "metadata": {
    "ExecuteTime": {
     "end_time": "2020-02-12T13:53:14.790690Z",
     "start_time": "2020-02-12T13:53:14.785452Z"
    }
   },
   "outputs": [],
   "source": [
    "# Human move approach still the same\n",
    "def human_move(board, row, column):\n",
    "    # get the index of the cell the user selected: 2D -> 1D \n",
    "    index = 3 * (row - 1) + (column - 1)\n",
    "    #  if this cell is empty, make the user move, otherwise do nothing\n",
    "    if board[index] == EMPTY:\n",
    "        # place HUMAN sign on board[index]\n",
    "        return board[:index] + HUMAN + board[index+1:]\n",
    "    return board"
   ]
  },
  {
   "cell_type": "markdown",
   "metadata": {},
   "source": [
    "#### AI move: ai_move() is improved\n",
    "Save preffered moves"
   ]
  },
  {
   "cell_type": "code",
   "execution_count": 9,
   "metadata": {
    "ExecuteTime": {
     "end_time": "2020-02-12T13:53:14.803421Z",
     "start_time": "2020-02-12T13:53:14.794215Z"
    }
   },
   "outputs": [],
   "source": [
    "# AI makes a move from all available SAFE moves\n",
    "from random import choice\n",
    "def ai_move(board):\n",
    "    new_boards = all_possible_moves(board, AI)\n",
    "    for new_board in new_boards:\n",
    "        if game_won_by(new_board) == AI:\n",
    "            return new_board\n",
    "    safe_moves = []\n",
    "    for new_board in new_boards:\n",
    "        if not can_win(new_board, HUMAN):\n",
    "            safe_moves.append(new_board)\n",
    "    if len(safe_moves) > 0: \n",
    "        return choice(safe_moves) \n",
    "    return new_boards[0]           "
   ]
  },
  {
   "cell_type": "code",
   "execution_count": 10,
   "metadata": {
    "ExecuteTime": {
     "end_time": "2020-02-12T13:53:14.816027Z",
     "start_time": "2020-02-12T13:53:14.807919Z"
    }
   },
   "outputs": [],
   "source": [
    "# Play the game\n",
    "def game():\n",
    "    # start from empty board\n",
    "    board = EMPTY * 9\n",
    "    empty_cell_count = 9\n",
    "    end_flag = False\n",
    "    \n",
    "    while empty_cell_count > 0 and not end_flag:       \n",
    "        # Player AI (always odd number of options)\n",
    "        if empty_cell_count % 2 == 1:\n",
    "            board = ai_move(board)\n",
    "        else:\n",
    "            # Human player\n",
    "            row = int(input('Enter row: '))\n",
    "            col = int(input('Enter column: '))\n",
    "            board = human_move(board, row, col)\n",
    "            \n",
    "        # Print current board status    \n",
    "        print_board(board)\n",
    "        \n",
    "        # Check if someone wins already, update the flag\n",
    "        end_flag = game_won_by(board) != EMPTY\n",
    "        \n",
    "        # Count how many empty cells left\n",
    "        empty_cell_count = board.count(EMPTY)      \n",
    "        # empty_cell_count = sum(1 for cell in board if cell == EMPTY_SIGN)\n",
    "     \n",
    "    print('Game ended. Winner: ', game_won_by(board))"
   ]
  },
  {
   "cell_type": "code",
   "execution_count": 18,
   "metadata": {
    "ExecuteTime": {
     "end_time": "2020-02-12T13:56:40.789638Z",
     "start_time": "2020-02-12T13:56:20.236042Z"
    }
   },
   "outputs": [
    {
     "name": "stdout",
     "output_type": "stream",
     "text": [
      " \n",
      "X . .\n",
      ". . .\n",
      ". . .\n",
      " \n",
      "Enter row: 11\n",
      "Enter column: 2\n"
     ]
    },
    {
     "ename": "IndexError",
     "evalue": "string index out of range",
     "output_type": "error",
     "traceback": [
      "\u001b[0;31m---------------------------------------------------------------------------\u001b[0m",
      "\u001b[0;31mIndexError\u001b[0m                                Traceback (most recent call last)",
      "\u001b[0;32m<ipython-input-18-44352415493e>\u001b[0m in \u001b[0;36m<module>\u001b[0;34m\u001b[0m\n\u001b[1;32m      1\u001b[0m \u001b[0;31m# Run the game\u001b[0m\u001b[0;34m\u001b[0m\u001b[0;34m\u001b[0m\u001b[0;34m\u001b[0m\u001b[0m\n\u001b[0;32m----> 2\u001b[0;31m \u001b[0mgame\u001b[0m\u001b[0;34m(\u001b[0m\u001b[0;34m)\u001b[0m\u001b[0;34m\u001b[0m\u001b[0;34m\u001b[0m\u001b[0m\n\u001b[0m",
      "\u001b[0;32m<ipython-input-10-2bc414c7d033>\u001b[0m in \u001b[0;36mgame\u001b[0;34m()\u001b[0m\n\u001b[1;32m     14\u001b[0m             \u001b[0mrow\u001b[0m \u001b[0;34m=\u001b[0m \u001b[0mint\u001b[0m\u001b[0;34m(\u001b[0m\u001b[0minput\u001b[0m\u001b[0;34m(\u001b[0m\u001b[0;34m'Enter row: '\u001b[0m\u001b[0;34m)\u001b[0m\u001b[0;34m)\u001b[0m\u001b[0;34m\u001b[0m\u001b[0;34m\u001b[0m\u001b[0m\n\u001b[1;32m     15\u001b[0m             \u001b[0mcol\u001b[0m \u001b[0;34m=\u001b[0m \u001b[0mint\u001b[0m\u001b[0;34m(\u001b[0m\u001b[0minput\u001b[0m\u001b[0;34m(\u001b[0m\u001b[0;34m'Enter column: '\u001b[0m\u001b[0;34m)\u001b[0m\u001b[0;34m)\u001b[0m\u001b[0;34m\u001b[0m\u001b[0;34m\u001b[0m\u001b[0m\n\u001b[0;32m---> 16\u001b[0;31m             \u001b[0mboard\u001b[0m \u001b[0;34m=\u001b[0m \u001b[0mhuman_move\u001b[0m\u001b[0;34m(\u001b[0m\u001b[0mboard\u001b[0m\u001b[0;34m,\u001b[0m \u001b[0mrow\u001b[0m\u001b[0;34m,\u001b[0m \u001b[0mcol\u001b[0m\u001b[0;34m)\u001b[0m\u001b[0;34m\u001b[0m\u001b[0;34m\u001b[0m\u001b[0m\n\u001b[0m\u001b[1;32m     17\u001b[0m \u001b[0;34m\u001b[0m\u001b[0m\n\u001b[1;32m     18\u001b[0m         \u001b[0;31m# Print current board status\u001b[0m\u001b[0;34m\u001b[0m\u001b[0;34m\u001b[0m\u001b[0;34m\u001b[0m\u001b[0m\n",
      "\u001b[0;32m<ipython-input-8-ee8353ea1dfc>\u001b[0m in \u001b[0;36mhuman_move\u001b[0;34m(board, row, column)\u001b[0m\n\u001b[1;32m      4\u001b[0m     \u001b[0mindex\u001b[0m \u001b[0;34m=\u001b[0m \u001b[0;36m3\u001b[0m \u001b[0;34m*\u001b[0m \u001b[0;34m(\u001b[0m\u001b[0mrow\u001b[0m \u001b[0;34m-\u001b[0m \u001b[0;36m1\u001b[0m\u001b[0;34m)\u001b[0m \u001b[0;34m+\u001b[0m \u001b[0;34m(\u001b[0m\u001b[0mcolumn\u001b[0m \u001b[0;34m-\u001b[0m \u001b[0;36m1\u001b[0m\u001b[0;34m)\u001b[0m\u001b[0;34m\u001b[0m\u001b[0;34m\u001b[0m\u001b[0m\n\u001b[1;32m      5\u001b[0m     \u001b[0;31m#  if this cell is empty, make the user move, otherwise do nothing\u001b[0m\u001b[0;34m\u001b[0m\u001b[0;34m\u001b[0m\u001b[0;34m\u001b[0m\u001b[0m\n\u001b[0;32m----> 6\u001b[0;31m     \u001b[0;32mif\u001b[0m \u001b[0mboard\u001b[0m\u001b[0;34m[\u001b[0m\u001b[0mindex\u001b[0m\u001b[0;34m]\u001b[0m \u001b[0;34m==\u001b[0m \u001b[0mEMPTY\u001b[0m\u001b[0;34m:\u001b[0m\u001b[0;34m\u001b[0m\u001b[0;34m\u001b[0m\u001b[0m\n\u001b[0m\u001b[1;32m      7\u001b[0m         \u001b[0;31m# place HUMAN sign on board[index]\u001b[0m\u001b[0;34m\u001b[0m\u001b[0;34m\u001b[0m\u001b[0;34m\u001b[0m\u001b[0m\n\u001b[1;32m      8\u001b[0m         \u001b[0;32mreturn\u001b[0m \u001b[0mboard\u001b[0m\u001b[0;34m[\u001b[0m\u001b[0;34m:\u001b[0m\u001b[0mindex\u001b[0m\u001b[0;34m]\u001b[0m \u001b[0;34m+\u001b[0m \u001b[0mHUMAN\u001b[0m \u001b[0;34m+\u001b[0m \u001b[0mboard\u001b[0m\u001b[0;34m[\u001b[0m\u001b[0mindex\u001b[0m\u001b[0;34m+\u001b[0m\u001b[0;36m1\u001b[0m\u001b[0;34m:\u001b[0m\u001b[0;34m]\u001b[0m\u001b[0;34m\u001b[0m\u001b[0;34m\u001b[0m\u001b[0m\n",
      "\u001b[0;31mIndexError\u001b[0m: string index out of range"
     ]
    }
   ],
   "source": [
    "# Run the game\n",
    "game()"
   ]
  },
  {
   "cell_type": "markdown",
   "metadata": {},
   "source": [
    "## Game Analysis"
   ]
  },
  {
   "cell_type": "markdown",
   "metadata": {},
   "source": [
    "We want to know how many are the possible combinations of moves and how many times each player can win the game."
   ]
  },
  {
   "cell_type": "code",
   "execution_count": 12,
   "metadata": {
    "ExecuteTime": {
     "end_time": "2020-02-12T13:54:04.906534Z",
     "start_time": "2020-02-12T13:54:04.899577Z"
    }
   },
   "outputs": [],
   "source": [
    "# all moves for all possible states for this player\n",
    "def all_moves(board_list, sign):\n",
    "    move_list = []\n",
    "    for board in board_list:\n",
    "        move_list.extend(all_possible_moves(board, sign))\n",
    "    return move_list"
   ]
  },
  {
   "cell_type": "code",
   "execution_count": 13,
   "metadata": {
    "ExecuteTime": {
     "end_time": "2020-02-12T13:54:04.937935Z",
     "start_time": "2020-02-12T13:54:04.924082Z"
    }
   },
   "outputs": [],
   "source": [
    "# All wins of each player separated in two new lists, draws remains in the old list\n",
    "def player_wins(move_list, ai_wins, human_wins):\n",
    "    for board in move_list:\n",
    "        won_by = game_won_by(board)\n",
    "        if won_by == AI:\n",
    "            ai_wins.append(board)\n",
    "            move_list.remove(board)\n",
    "        elif won_by == HUMAN:\n",
    "            human_wins.append(board)\n",
    "            move_list.remove(board)"
   ]
  },
  {
   "cell_type": "code",
   "execution_count": 14,
   "metadata": {
    "ExecuteTime": {
     "end_time": "2020-02-12T13:54:04.970873Z",
     "start_time": "2020-02-12T13:54:04.953637Z"
    }
   },
   "outputs": [],
   "source": [
    "# At each step count the available moves\n",
    "def count_possibilities():\n",
    "    board = EMPTY * 9\n",
    "    move_list = [board]\n",
    "    ai_wins = []\n",
    "    human_wins = []\n",
    "    for i in range(9):\n",
    "        print('Step ' + str(i) + ': possible moves = ' + str(len(move_list)))\n",
    "        sign = AI if i % 2 == 0 else HUMAN\n",
    "        move_list = all_moves(move_list, sign)\n",
    "        player_wins(move_list, ai_wins, human_wins)\n",
    "    print('First player wins: ' + str(len(ai_wins)))\n",
    "    print('Second player wins: ' + str(len(human_wins)))\n",
    "    print('Draw', str(len(move_list)))\n",
    "    print('Total', str(len(ai_wins) + len(human_wins) + len(move_list)))"
   ]
  },
  {
   "cell_type": "code",
   "execution_count": 15,
   "metadata": {
    "ExecuteTime": {
     "end_time": "2020-02-12T13:54:04.998664Z",
     "start_time": "2020-02-12T13:54:04.979819Z"
    }
   },
   "outputs": [
    {
     "name": "stdout",
     "output_type": "stream",
     "text": [
      "Step 0: possible moves = 1\n",
      "Step 1: possible moves = 1\n",
      "Step 2: possible moves = 8\n",
      "Step 3: possible moves = 8\n",
      "Step 4: possible moves = 48\n",
      "Step 5: possible moves = 38\n",
      "Step 6: possible moves = 108\n",
      "Step 7: possible moves = 76\n",
      "Step 8: possible moves = 90\n",
      "First player wins: 128\n",
      "Second player wins: 0\n",
      "Draw 60\n",
      "Total 188\n"
     ]
    }
   ],
   "source": [
    "count_possibilities()"
   ]
  },
  {
   "cell_type": "code",
   "execution_count": null,
   "metadata": {},
   "outputs": [],
   "source": []
  }
 ],
 "metadata": {
  "kernelspec": {
   "display_name": "Python 3",
   "language": "python",
   "name": "python3"
  },
  "language_info": {
   "codemirror_mode": {
    "name": "ipython",
    "version": 3
   },
   "file_extension": ".py",
   "mimetype": "text/x-python",
   "name": "python",
   "nbconvert_exporter": "python",
   "pygments_lexer": "ipython3",
   "version": "3.7.4"
  },
  "varInspector": {
   "cols": {
    "lenName": 16,
    "lenType": 16,
    "lenVar": 40
   },
   "kernels_config": {
    "python": {
     "delete_cmd_postfix": "",
     "delete_cmd_prefix": "del ",
     "library": "var_list.py",
     "varRefreshCmd": "print(var_dic_list())"
    },
    "r": {
     "delete_cmd_postfix": ") ",
     "delete_cmd_prefix": "rm(",
     "library": "var_list.r",
     "varRefreshCmd": "cat(var_dic_list()) "
    }
   },
   "types_to_exclude": [
    "module",
    "function",
    "builtin_function_or_method",
    "instance",
    "_Feature"
   ],
   "window_display": false
  }
 },
 "nbformat": 4,
 "nbformat_minor": 2
}
